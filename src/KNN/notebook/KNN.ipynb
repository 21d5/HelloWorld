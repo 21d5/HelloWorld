{
 "metadata": {
  "name": "",
  "signature": "sha256:1dd324dc45356b1fbc969f422cd6beae8b79c9ca3092af3e1c03500809b4be84"
 },
 "nbformat": 3,
 "nbformat_minor": 0,
 "worksheets": [
  {
   "cells": [
    {
     "cell_type": "code",
     "collapsed": false,
     "input": [
      "# Calculate KNN distance\n",
      "\n",
      "%pylab inline\n",
      "import nvd3\n",
      "from nvd3 import scatterChart, lineChart\n",
      "import pymongo\n",
      "\n",
      "nvd3.ipynb.initialize_javascript(use_remote=True)"
     ],
     "language": "python",
     "metadata": {},
     "outputs": [
      {
       "output_type": "stream",
       "stream": "stdout",
       "text": [
        "Populating the interactive namespace from numpy and matplotlib\n",
        "loaded nvd3 IPython extension\n",
        "run nvd3.IPython_wrapper.initialize_javascript() to set up the notebook\n",
        "help(nvd3.IPython_wrapper.initialize_javascript) for options"
       ]
      },
      {
       "output_type": "stream",
       "stream": "stdout",
       "text": [
        "\n"
       ]
      },
      {
       "html": [
        "<link media=\"all\" href=\"http://nvd3.org/assets/css/nv.d3.css\" type=\"text/css\"\n",
        "                        rel=\"stylesheet\"/>"
       ],
       "metadata": {},
       "output_type": "display_data",
       "text": [
        "<IPython.core.display.HTML at 0x10f98ef28>"
       ]
      },
      {
       "javascript": [
        "$.getScript(\"http://nvd3.org/assets/js/nv.d3.js\")"
       ],
       "metadata": {},
       "output_type": "display_data",
       "text": [
        "<IPython.core.display.Javascript at 0x10f98ef28>"
       ]
      },
      {
       "javascript": [
        "$.getScript(\"http://nvd3.org/assets/lib/d3.v3.js\", function() {\n",
        "                              $.getScript(\"http://nvd3.org/assets/js/nv.d3.js\", function() {})});"
       ],
       "metadata": {},
       "output_type": "display_data",
       "text": [
        "<IPython.core.display.Javascript at 0x10f98ef28>"
       ]
      },
      {
       "html": [
        "<script src=\"http://nvd3.org/assets/lib/d3.v3.js\"></script>"
       ],
       "metadata": {},
       "output_type": "display_data",
       "text": [
        "<IPython.core.display.HTML at 0x10f98ef28>"
       ]
      },
      {
       "html": [
        "<script src=\"http://nvd3.org/assets/js/nv.d3.js\"></script>"
       ],
       "metadata": {},
       "output_type": "display_data",
       "text": [
        "<IPython.core.display.HTML at 0x10f98ef28>"
       ]
      }
     ],
     "prompt_number": 1
    },
    {
     "cell_type": "code",
     "collapsed": false,
     "input": [
      "# calculate\n",
      "from scipy.spatial.distance import cdist\n",
      "\n",
      "    \n",
      "def compute_distance(k):\n",
      "    vectors = random.randn(100 * 100)\n",
      "    vectors.resize(100, 100)\n",
      "\n",
      "    N_SAMPLES = vectors.shape[0]\n",
      "    print('N_SAMPLES: ', N_SAMPLES)\n",
      "    \n",
      "    distance = cdist(vectors, vectors)\n",
      "    distance.sort()\n",
      "    \n",
      "    fr, to, step = [int(i) for i in k.split()]\n",
      "    \n",
      "    k_distance = {\n",
      "        k: sorted(distance[:, k])\n",
      "        for k in range(fr, to, step)\n",
      "    }\n",
      "    \n",
      "    return k_distance\n"
     ],
     "language": "python",
     "metadata": {},
     "outputs": [],
     "prompt_number": 2
    },
    {
     "cell_type": "code",
     "collapsed": false,
     "input": [
      "# draw\n",
      "from IPython.display import HTML, display\n",
      "\n",
      "\n",
      "def draw_scatter(k, ratio):\n",
      "    k_distance = compute_distance(k)\n",
      "    \n",
      "    chart = lineChart(name='KNN', height=400, width=800, resize=False)\n",
      "    extra_seris = {'tooltip': {'y_start': '', 'y_end': ''}}\n",
      "    shapes = ['circle', 'cross', 'triangle-up', 'triangle-down', 'diamond', 'square']\n",
      "    \n",
      "    for group, axis in k_distance.items():\n",
      "        length = len(axis)\n",
      "        axis = axis[int(len(axis)*ratio - len(axis)): ]\n",
      "        kwargs = {'shape': shapes[group % 6], 'size': 0.8, 'alpha': 0.8}\n",
      "        chart.add_serie(name=str(group), x=list(range(length - len(axis), length)), y=axis, extra=extra_seris, **kwargs)\n",
      "    \n",
      "    html = str(chart)\n",
      "    display(HTML(html))\n"
     ],
     "language": "python",
     "metadata": {},
     "outputs": [],
     "prompt_number": 3
    },
    {
     "cell_type": "code",
     "collapsed": false,
     "input": [
      "# interactive\n",
      "\n",
      "from IPython.html.widgets import interact, FloatSliderWidget, TextWidget\n",
      "\n",
      "\n",
      "interact(draw_scatter,\n",
      "         # k\n",
      "         k=TextWidget(value='1 100 10'),\n",
      "         # ratio\n",
      "         ratio=FloatSliderWidget(min=0, max=1, step=0.01, value=0.9)\n",
      ")"
     ],
     "language": "python",
     "metadata": {},
     "outputs": [
      {
       "output_type": "stream",
       "stream": "stdout",
       "text": [
        "N_SAMPLES:  100\n"
       ]
      },
      {
       "html": [
        "<!DOCTYPE html>\n",
        "<html lang=\"en\">\n",
        "    <head>\n",
        "        <meta charset=\"utf-8\" />\n",
        "        <link href=\"./bower_components/nvd3/src/nv.d3.css\" rel=\"stylesheet\" />\n",
        "        <script src=\"./bower_components/d3/d3.min.js\"></script>\n",
        "        <script src=\"./bower_components/nvd3/nv.d3.min.js\"></script>\n",
        "    </head>\n",
        "    <body>\n",
        "        \n",
        "<div id=\"KNN\"><svg style=\"width:800px;height:400px;\"></svg></div>\n",
        "\n",
        "\n",
        "<script>\n",
        "\n",
        "\n",
        "    data_KNN=[{\"values\": [{\"y\": 12.75867859390083, \"x\": 90, \"size\": 0.8, \"shape\": \"cross\"}, {\"y\": 12.77867043780069, \"x\": 91, \"size\": 0.8, \"shape\": \"cross\"}, {\"y\": 12.836311710647646, \"x\": 92, \"size\": 0.8, \"shape\": \"cross\"}, {\"y\": 12.883546901155455, \"x\": 93, \"size\": 0.8, \"shape\": \"cross\"}, {\"y\": 12.942117149295726, \"x\": 94, \"size\": 0.8, \"shape\": \"cross\"}, {\"y\": 13.023530546514289, \"x\": 95, \"size\": 0.8, \"shape\": \"cross\"}, {\"y\": 13.089073488841754, \"x\": 96, \"size\": 0.8, \"shape\": \"cross\"}, {\"y\": 13.124124430416577, \"x\": 97, \"size\": 0.8, \"shape\": \"cross\"}, {\"y\": 13.207645543019314, \"x\": 98, \"size\": 0.8, \"shape\": \"cross\"}, {\"y\": 13.679767995781106, \"x\": 99, \"size\": 0.8, \"shape\": \"cross\"}], \"key\": \"1\", \"yAxis\": \"1\"}, {\"values\": [{\"y\": 15.812593620411667, \"x\": 90, \"size\": 0.8, \"shape\": \"cross\"}, {\"y\": 15.884729977965359, \"x\": 91, \"size\": 0.8, \"shape\": \"cross\"}, {\"y\": 15.906161774487469, \"x\": 92, \"size\": 0.8, \"shape\": \"cross\"}, {\"y\": 15.96887034649869, \"x\": 93, \"size\": 0.8, \"shape\": \"cross\"}, {\"y\": 16.053202784422407, \"x\": 94, \"size\": 0.8, \"shape\": \"cross\"}, {\"y\": 16.132740359385426, \"x\": 95, \"size\": 0.8, \"shape\": \"cross\"}, {\"y\": 16.217446758298475, \"x\": 96, \"size\": 0.8, \"shape\": \"cross\"}, {\"y\": 16.354015961696458, \"x\": 97, \"size\": 0.8, \"shape\": \"cross\"}, {\"y\": 16.55249602850352, \"x\": 98, \"size\": 0.8, \"shape\": \"cross\"}, {\"y\": 16.763940244895032, \"x\": 99, \"size\": 0.8, \"shape\": \"cross\"}], \"key\": \"91\", \"yAxis\": \"1\"}, {\"values\": [{\"y\": 14.653894074931374, \"x\": 90, \"size\": 0.8, \"shape\": \"triangle-down\"}, {\"y\": 14.669082100045852, \"x\": 91, \"size\": 0.8, \"shape\": \"triangle-down\"}, {\"y\": 14.695756956577734, \"x\": 92, \"size\": 0.8, \"shape\": \"triangle-down\"}, {\"y\": 14.708332034486023, \"x\": 93, \"size\": 0.8, \"shape\": \"triangle-down\"}, {\"y\": 14.734815608646764, \"x\": 94, \"size\": 0.8, \"shape\": \"triangle-down\"}, {\"y\": 14.902628640466022, \"x\": 95, \"size\": 0.8, \"shape\": \"triangle-down\"}, {\"y\": 14.903875348312498, \"x\": 96, \"size\": 0.8, \"shape\": \"triangle-down\"}, {\"y\": 15.1328813294707, \"x\": 97, \"size\": 0.8, \"shape\": \"triangle-down\"}, {\"y\": 15.253132581667533, \"x\": 98, \"size\": 0.8, \"shape\": \"triangle-down\"}, {\"y\": 15.413716396994223, \"x\": 99, \"size\": 0.8, \"shape\": \"triangle-down\"}], \"key\": \"51\", \"yAxis\": \"1\"}, {\"values\": [{\"y\": 13.937658705585841, \"x\": 90, \"size\": 0.8, \"shape\": \"triangle-down\"}, {\"y\": 13.991707867532229, \"x\": 91, \"size\": 0.8, \"shape\": \"triangle-down\"}, {\"y\": 14.028251057391522, \"x\": 92, \"size\": 0.8, \"shape\": \"triangle-down\"}, {\"y\": 14.036054899476673, \"x\": 93, \"size\": 0.8, \"shape\": \"triangle-down\"}, {\"y\": 14.147479750262246, \"x\": 94, \"size\": 0.8, \"shape\": \"triangle-down\"}, {\"y\": 14.147634821171176, \"x\": 95, \"size\": 0.8, \"shape\": \"triangle-down\"}, {\"y\": 14.22943513868881, \"x\": 96, \"size\": 0.8, \"shape\": \"triangle-down\"}, {\"y\": 14.313235117116603, \"x\": 97, \"size\": 0.8, \"shape\": \"triangle-down\"}, {\"y\": 14.581904444903357, \"x\": 98, \"size\": 0.8, \"shape\": \"triangle-down\"}, {\"y\": 14.61659232403182, \"x\": 99, \"size\": 0.8, \"shape\": \"triangle-down\"}], \"key\": \"21\", \"yAxis\": \"1\"}, {\"values\": [{\"y\": 15.427699548325009, \"x\": 90, \"size\": 0.8, \"shape\": \"triangle-down\"}, {\"y\": 15.438257282006191, \"x\": 91, \"size\": 0.8, \"shape\": \"triangle-down\"}, {\"y\": 15.488066147951892, \"x\": 92, \"size\": 0.8, \"shape\": \"triangle-down\"}, {\"y\": 15.589373035501719, \"x\": 93, \"size\": 0.8, \"shape\": \"triangle-down\"}, {\"y\": 15.610549298194162, \"x\": 94, \"size\": 0.8, \"shape\": \"triangle-down\"}, {\"y\": 15.670140401154445, \"x\": 95, \"size\": 0.8, \"shape\": \"triangle-down\"}, {\"y\": 15.670140401154445, \"x\": 96, \"size\": 0.8, \"shape\": \"triangle-down\"}, {\"y\": 15.907951122571413, \"x\": 97, \"size\": 0.8, \"shape\": \"triangle-down\"}, {\"y\": 16.119869704678344, \"x\": 98, \"size\": 0.8, \"shape\": \"triangle-down\"}, {\"y\": 16.26550617988986, \"x\": 99, \"size\": 0.8, \"shape\": \"triangle-down\"}], \"key\": \"81\", \"yAxis\": \"1\"}, {\"values\": [{\"y\": 15.123802782863917, \"x\": 90, \"size\": 0.8, \"shape\": \"square\"}, {\"y\": 15.12618964563394, \"x\": 91, \"size\": 0.8, \"shape\": \"square\"}, {\"y\": 15.147345872663555, \"x\": 92, \"size\": 0.8, \"shape\": \"square\"}, {\"y\": 15.180425606725024, \"x\": 93, \"size\": 0.8, \"shape\": \"square\"}, {\"y\": 15.242134593237262, \"x\": 94, \"size\": 0.8, \"shape\": \"square\"}, {\"y\": 15.419738631187634, \"x\": 95, \"size\": 0.8, \"shape\": \"square\"}, {\"y\": 15.457934326628646, \"x\": 96, \"size\": 0.8, \"shape\": \"square\"}, {\"y\": 15.506332337876392, \"x\": 97, \"size\": 0.8, \"shape\": \"square\"}, {\"y\": 15.909169498618706, \"x\": 98, \"size\": 0.8, \"shape\": \"square\"}, {\"y\": 16.01591528586986, \"x\": 99, \"size\": 0.8, \"shape\": \"square\"}], \"key\": \"71\", \"yAxis\": \"1\"}, {\"values\": [{\"y\": 14.457161370558863, \"x\": 90, \"size\": 0.8, \"shape\": \"square\"}, {\"y\": 14.487242727123835, \"x\": 91, \"size\": 0.8, \"shape\": \"square\"}, {\"y\": 14.491039677479542, \"x\": 92, \"size\": 0.8, \"shape\": \"square\"}, {\"y\": 14.511636655563462, \"x\": 93, \"size\": 0.8, \"shape\": \"square\"}, {\"y\": 14.52198874920409, \"x\": 94, \"size\": 0.8, \"shape\": \"square\"}, {\"y\": 14.672388282258227, \"x\": 95, \"size\": 0.8, \"shape\": \"square\"}, {\"y\": 14.76589414115789, \"x\": 96, \"size\": 0.8, \"shape\": \"square\"}, {\"y\": 14.841820735598937, \"x\": 97, \"size\": 0.8, \"shape\": \"square\"}, {\"y\": 14.967795387246182, \"x\": 98, \"size\": 0.8, \"shape\": \"square\"}, {\"y\": 15.11802824494548, \"x\": 99, \"size\": 0.8, \"shape\": \"square\"}], \"key\": \"41\", \"yAxis\": \"1\"}, {\"values\": [{\"y\": 13.651440980429916, \"x\": 90, \"size\": 0.8, \"shape\": \"square\"}, {\"y\": 13.652480369844739, \"x\": 91, \"size\": 0.8, \"shape\": \"square\"}, {\"y\": 13.700592108791492, \"x\": 92, \"size\": 0.8, \"shape\": \"square\"}, {\"y\": 13.810427419233111, \"x\": 93, \"size\": 0.8, \"shape\": \"square\"}, {\"y\": 13.861375875511436, \"x\": 94, \"size\": 0.8, \"shape\": \"square\"}, {\"y\": 13.866384590510226, \"x\": 95, \"size\": 0.8, \"shape\": \"square\"}, {\"y\": 13.949572403117905, \"x\": 96, \"size\": 0.8, \"shape\": \"square\"}, {\"y\": 14.024980879179742, \"x\": 97, \"size\": 0.8, \"shape\": \"square\"}, {\"y\": 14.096778112749831, \"x\": 98, \"size\": 0.8, \"shape\": \"square\"}, {\"y\": 14.175999615668678, \"x\": 99, \"size\": 0.8, \"shape\": \"square\"}], \"key\": \"11\", \"yAxis\": \"1\"}, {\"values\": [{\"y\": 14.888977534809255, \"x\": 90, \"size\": 0.8, \"shape\": \"cross\"}, {\"y\": 14.893977139365322, \"x\": 91, \"size\": 0.8, \"shape\": \"cross\"}, {\"y\": 14.905333102790989, \"x\": 92, \"size\": 0.8, \"shape\": \"cross\"}, {\"y\": 14.942353095811157, \"x\": 93, \"size\": 0.8, \"shape\": \"cross\"}, {\"y\": 14.982210241712531, \"x\": 94, \"size\": 0.8, \"shape\": \"cross\"}, {\"y\": 15.113684929884183, \"x\": 95, \"size\": 0.8, \"shape\": \"cross\"}, {\"y\": 15.12618964563394, \"x\": 96, \"size\": 0.8, \"shape\": \"cross\"}, {\"y\": 15.395083261821082, \"x\": 97, \"size\": 0.8, \"shape\": \"cross\"}, {\"y\": 15.560365817298987, \"x\": 98, \"size\": 0.8, \"shape\": \"cross\"}, {\"y\": 15.764239175577869, \"x\": 99, \"size\": 0.8, \"shape\": \"cross\"}], \"key\": \"61\", \"yAxis\": \"1\"}, {\"values\": [{\"y\": 14.21975830049629, \"x\": 90, \"size\": 0.8, \"shape\": \"cross\"}, {\"y\": 14.242965598835674, \"x\": 91, \"size\": 0.8, \"shape\": \"cross\"}, {\"y\": 14.324123646558995, \"x\": 92, \"size\": 0.8, \"shape\": \"cross\"}, {\"y\": 14.337103870507502, \"x\": 93, \"size\": 0.8, \"shape\": \"cross\"}, {\"y\": 14.388634264186487, \"x\": 94, \"size\": 0.8, \"shape\": \"cross\"}, {\"y\": 14.413675784485873, \"x\": 95, \"size\": 0.8, \"shape\": \"cross\"}, {\"y\": 14.422151860532512, \"x\": 96, \"size\": 0.8, \"shape\": \"cross\"}, {\"y\": 14.649412579291004, \"x\": 97, \"size\": 0.8, \"shape\": \"cross\"}, {\"y\": 14.810108870847108, \"x\": 98, \"size\": 0.8, \"shape\": \"cross\"}, {\"y\": 14.876455279749786, \"x\": 99, \"size\": 0.8, \"shape\": \"cross\"}], \"key\": \"31\", \"yAxis\": \"1\"}];\n",
        "\n",
        "    nv.addGraph(function() {\n",
        "        var chart = nv.models.lineChart();\n",
        "\n",
        "        chart.margin({top: 30, right: 60, bottom: 20, left: 60});\n",
        "\n",
        "        var datum = data_KNN;\n",
        "\n",
        "\n",
        "\n",
        "                chart.xAxis\n",
        "                    .tickFormat(d3.format(',r'));\n",
        "                chart.yAxis\n",
        "                    .tickFormat(d3.format(',.02f'));\n",
        "\n",
        "                chart.tooltipContent(function(key, y, e, graph) {\n",
        "                    var x = String(graph.point.x);\n",
        "                    var y = String(graph.point.y);\n",
        "                                        if(key == '1'){\n",
        "                        var y =  String(graph.point.y) ;\n",
        "                    }\n",
        "                    if(key == '91'){\n",
        "                        var y =  String(graph.point.y) ;\n",
        "                    }\n",
        "                    if(key == '51'){\n",
        "                        var y =  String(graph.point.y) ;\n",
        "                    }\n",
        "                    if(key == '21'){\n",
        "                        var y =  String(graph.point.y) ;\n",
        "                    }\n",
        "                    if(key == '81'){\n",
        "                        var y =  String(graph.point.y) ;\n",
        "                    }\n",
        "                    if(key == '71'){\n",
        "                        var y =  String(graph.point.y) ;\n",
        "                    }\n",
        "                    if(key == '41'){\n",
        "                        var y =  String(graph.point.y) ;\n",
        "                    }\n",
        "                    if(key == '11'){\n",
        "                        var y =  String(graph.point.y) ;\n",
        "                    }\n",
        "                    if(key == '61'){\n",
        "                        var y =  String(graph.point.y) ;\n",
        "                    }\n",
        "                    if(key == '31'){\n",
        "                        var y =  String(graph.point.y) ;\n",
        "                    }\n",
        "\n",
        "                    tooltip_str = '<center><b>'+key+'</b></center>' + y + ' at ' + x;\n",
        "                    return tooltip_str;\n",
        "                });\n",
        "\n",
        "\n",
        "            chart.showLegend(true);\n",
        "\n",
        "\n",
        "\n",
        "\n",
        "\n",
        "\n",
        "        \n",
        "\n",
        "        d3.select('#KNN svg')\n",
        "            .datum(datum)\n",
        "            .transition().duration(500)\n",
        "            .attr('width', 800)\n",
        "            .attr('height', 400)\n",
        "            .call(chart);\n",
        "\n",
        "    });\n",
        "\n",
        "\n",
        "</script>\n",
        "\n",
        "    </body>\n",
        "</html>"
       ],
       "metadata": {},
       "output_type": "display_data",
       "text": [
        "<IPython.core.display.HTML at 0x1146bbba8>"
       ]
      },
      {
       "metadata": {},
       "output_type": "pyout",
       "prompt_number": 4,
       "text": [
        "<function __main__.draw_scatter>"
       ]
      }
     ],
     "prompt_number": 4
    }
   ],
   "metadata": {}
  }
 ]
}